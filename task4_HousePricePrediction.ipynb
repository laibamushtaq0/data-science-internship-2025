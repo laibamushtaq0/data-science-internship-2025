{
  "nbformat": 4,
  "nbformat_minor": 0,
  "metadata": {
    "colab": {
      "provenance": [],
      "authorship_tag": "ABX9TyNM2msB+gZzQrDMZ8TV/0dm",
      "include_colab_link": true
    },
    "kernelspec": {
      "name": "python3",
      "display_name": "Python 3"
    },
    "language_info": {
      "name": "python"
    }
  },
  "cells": [
    {
      "cell_type": "markdown",
      "metadata": {
        "id": "view-in-github",
        "colab_type": "text"
      },
      "source": [
        "<a href=\"https://colab.research.google.com/github/laibamushtaq0/data-science-internship-2025/blob/main/task4_HousePricePrediction.ipynb\" target=\"_parent\"><img src=\"https://colab.research.google.com/assets/colab-badge.svg\" alt=\"Open In Colab\"/></a>"
      ]
    },
    {
      "cell_type": "markdown",
      "source": [
        "## TASK 4: Predicting House Prices"
      ],
      "metadata": {
        "id": "gPi0Mc03gPV9"
      }
    },
    {
      "cell_type": "code",
      "execution_count": 1,
      "metadata": {
        "id": "s3XqzG5oYqQU"
      },
      "outputs": [],
      "source": [
        "import pandas as pd\n",
        "import numpy as np\n",
        "import matplotlib.pyplot as plt\n",
        "from sklearn.model_selection import train_test_split\n",
        "from sklearn.metrics import mean_squared_error, r2_score\n",
        "\n",
        "# Load from CSV\n",
        "df = pd.read_csv(\"boston.csv\")\n",
        "\n",
        "# Separate features and target\n",
        "X = df.drop(columns=['MEDV'])  # Assuming MEDV is the target\n",
        "y = df['MEDV']\n",
        "\n",
        "# Normalize features\n",
        "X = (X - X.mean()) / X.std()\n",
        "\n",
        "# Train-test split\n",
        "X_train, X_test, y_train, y_test = train_test_split(X.values, y.values, test_size=0.2, random_state=42)\n"
      ]
    },
    {
      "cell_type": "code",
      "source": [
        "class LinearRegressionScratch:\n",
        "    def __init__(self, lr=0.01, n_iter=1000):\n",
        "        self.lr = lr\n",
        "        self.n_iter = n_iter\n",
        "\n",
        "    def fit(self, X, y):\n",
        "        self.n_samples, self.n_features = X.shape\n",
        "        self.weights = np.zeros(self.n_features)\n",
        "        self.bias = 0\n",
        "\n",
        "        for _ in range(self.n_iter):\n",
        "            y_pred = np.dot(X, self.weights) + self.bias\n",
        "            dw = -(2/self.n_samples) * np.dot(X.T, (y - y_pred))\n",
        "            db = -(2/self.n_samples) * np.sum(y - y_pred)\n",
        "            self.weights -= self.lr * dw\n",
        "            self.bias -= self.lr * db\n",
        "\n",
        "    def predict(self, X):\n",
        "        return np.dot(X, self.weights) + self.bias\n"
      ],
      "metadata": {
        "id": "TFgsT8jMeQKl"
      },
      "execution_count": 2,
      "outputs": []
    },
    {
      "cell_type": "code",
      "source": [
        "import random\n",
        "\n",
        "class DecisionTreeRegressorScratch:\n",
        "    def __init__(self, max_depth=5, min_samples_split=2):\n",
        "        self.max_depth = max_depth\n",
        "        self.min_samples_split = min_samples_split\n",
        "\n",
        "    def fit(self, X, y, depth=0):\n",
        "        self.n_samples, self.n_features = X.shape\n",
        "        self.value = np.mean(y)\n",
        "        self.depth = depth\n",
        "\n",
        "        if self.depth < self.max_depth and self.n_samples >= self.min_samples_split:\n",
        "            self.best_feature, self.best_threshold = self.find_best_split(X, y)\n",
        "            if self.best_feature is not None:\n",
        "                left_idx = X[:, self.best_feature] <= self.best_threshold\n",
        "                right_idx = X[:, self.best_feature] > self.best_threshold\n",
        "                self.left = DecisionTreeRegressorScratch(self.max_depth, self.min_samples_split)\n",
        "                self.right = DecisionTreeRegressorScratch(self.max_depth, self.min_samples_split)\n",
        "                self.left.fit(X[left_idx], y[left_idx], depth+1)\n",
        "                self.right.fit(X[right_idx], y[right_idx], depth+1)\n",
        "\n",
        "    def find_best_split(self, X, y):\n",
        "        best_mse = float(\"inf\")\n",
        "        best_feature, best_threshold = None, None\n",
        "        for feature in range(X.shape[1]):\n",
        "            thresholds = np.unique(X[:, feature])\n",
        "            for threshold in thresholds:\n",
        "                left_idx = X[:, feature] <= threshold\n",
        "                right_idx = X[:, feature] > threshold\n",
        "                if len(y[left_idx]) == 0 or len(y[right_idx]) == 0:\n",
        "                    continue\n",
        "                mse = (len(y[left_idx]) * np.var(y[left_idx]) + len(y[right_idx]) * np.var(y[right_idx])) / len(y)\n",
        "                if mse < best_mse:\n",
        "                    best_mse = mse\n",
        "                    best_feature = feature\n",
        "                    best_threshold = threshold\n",
        "        return best_feature, best_threshold\n",
        "\n",
        "    def predict(self, X):\n",
        "        if hasattr(self, 'best_feature'):\n",
        "            if X[self.best_feature] <= self.best_threshold:\n",
        "                return self.left.predict(X)\n",
        "            else:\n",
        "                return self.right.predict(X)\n",
        "        else:\n",
        "            return self.value\n",
        "\n",
        "\n",
        "class RandomForestRegressorScratch:\n",
        "    def __init__(self, n_estimators=10, max_depth=5, min_samples_split=2):\n",
        "        self.n_estimators = n_estimators\n",
        "        self.max_depth = max_depth\n",
        "        self.min_samples_split = min_samples_split\n",
        "        self.trees = []\n",
        "\n",
        "    def fit(self, X, y):\n",
        "        self.trees = []\n",
        "        for _ in range(self.n_estimators):\n",
        "            idxs = np.random.choice(len(X), len(X), replace=True)\n",
        "            tree = DecisionTreeRegressorScratch(max_depth=self.max_depth, min_samples_split=self.min_samples_split)\n",
        "            tree.fit(X[idxs], y[idxs])\n",
        "            self.trees.append(tree)\n",
        "\n",
        "    def predict(self, X):\n",
        "        tree_preds = np.array([tree.predict(x) for tree in self.trees for x in X])\n",
        "        tree_preds = tree_preds.reshape(self.n_estimators, len(X))\n",
        "        return np.mean(tree_preds, axis=0)\n"
      ],
      "metadata": {
        "id": "J5Klv00FeVn9"
      },
      "execution_count": 3,
      "outputs": []
    },
    {
      "cell_type": "code",
      "source": [
        "class XGBoostRegressorScratch:\n",
        "    def __init__(self, n_estimators=10, learning_rate=0.1, max_depth=3):\n",
        "        self.n_estimators = n_estimators\n",
        "        self.learning_rate = learning_rate\n",
        "        self.max_depth = max_depth\n",
        "        self.trees = []\n",
        "\n",
        "    def fit(self, X, y):\n",
        "        self.pred = np.zeros(len(y))\n",
        "        for _ in range(self.n_estimators):\n",
        "            residuals = y - self.pred\n",
        "            tree = DecisionTreeRegressorScratch(max_depth=self.max_depth)\n",
        "            tree.fit(X, residuals)\n",
        "            update = np.array([tree.predict(x) for x in X])\n",
        "            self.pred += self.learning_rate * update\n",
        "            self.trees.append(tree)\n",
        "\n",
        "    def predict(self, X):\n",
        "        pred = np.zeros(X.shape[0])\n",
        "        for tree in self.trees:\n",
        "            pred += self.learning_rate * np.array([tree.predict(x) for x in X])\n",
        "        return pred\n"
      ],
      "metadata": {
        "id": "_BaK-wUueYMr"
      },
      "execution_count": 4,
      "outputs": []
    },
    {
      "cell_type": "code",
      "source": [
        "def evaluate_model(model, X_test, y_test):\n",
        "    y_pred = model.predict(X_test)\n",
        "    rmse = np.sqrt(mean_squared_error(y_test, y_pred))\n",
        "    r2 = r2_score(y_test, y_pred)\n",
        "    return rmse, r2\n"
      ],
      "metadata": {
        "id": "3HnlfxCxebEI"
      },
      "execution_count": 5,
      "outputs": []
    },
    {
      "cell_type": "code",
      "source": [
        "def feature_importance_rf(rf_model, feature_names):\n",
        "    importance = {i: 0 for i in range(len(feature_names))}\n",
        "    def count_splits(node):\n",
        "        if hasattr(node, 'best_feature'):\n",
        "            importance[node.best_feature] += 1\n",
        "            count_splits(node.left)\n",
        "            count_splits(node.right)\n",
        "\n",
        "    for tree in rf_model.trees:\n",
        "        count_splits(tree)\n",
        "\n",
        "    plt.barh(feature_names, [importance[i] for i in range(len(feature_names))])\n",
        "    plt.xlabel(\"Split Count\")\n",
        "    plt.title(\"Feature Importance (Random Forest)\")\n",
        "    plt.show()\n"
      ],
      "metadata": {
        "id": "AVFJ9-eledUx"
      },
      "execution_count": 6,
      "outputs": []
    },
    {
      "cell_type": "code",
      "source": [
        "if __name__ == \"__main__\":\n",
        "    feature_names = X.columns.tolist()\n",
        "\n",
        "    lr = LinearRegressionScratch()\n",
        "    lr.fit(X_train, y_train)\n",
        "    print(\"Linear Regression:\", evaluate_model(lr, X_test, y_test))\n",
        "\n",
        "    rf = RandomForestRegressorScratch(n_estimators=5, max_depth=4)\n",
        "    rf.fit(X_train, y_train)\n",
        "    print(\"Random Forest:\", evaluate_model(rf, X_test, y_test))\n",
        "    feature_importance_rf(rf, feature_names)\n",
        "\n",
        "    xgb = XGBoostRegressorScratch(n_estimators=10, learning_rate=0.1, max_depth=3)\n",
        "    xgb.fit(X_train, y_train)\n",
        "    print(\"XGBoost:\", evaluate_model(xgb, X_test, y_test))\n"
      ],
      "metadata": {
        "colab": {
          "base_uri": "https://localhost:8080/",
          "height": 526
        },
        "id": "cwVTEfgMeguj",
        "outputId": "e63c4416-34cf-41fc-a7d0-1d9a5e1a274c"
      },
      "execution_count": 7,
      "outputs": [
        {
          "output_type": "stream",
          "name": "stdout",
          "text": [
            "Linear Regression: (np.float64(4.971153264273616), 0.6630152746535407)\n",
            "Random Forest: (np.float64(3.362875143673047), 0.845788274590848)\n"
          ]
        },
        {
          "output_type": "display_data",
          "data": {
            "text/plain": [
              "<Figure size 640x480 with 1 Axes>"
            ],
            "image/png": "[encoded data removed]"
          },
          "metadata": {}
        },
        {
          "output_type": "stream",
          "name": "stdout",
          "text": [
            "XGBoost: (np.float64(8.798107778344807), -0.05553944094421248)\n"
          ]
        }
      ]
    },
    {
      "cell_type": "code",
      "source": [],
      "metadata": {
        "id": "xFrQL7xRej_I"
      },
      "execution_count": null,
      "outputs": []
    }
  ]
}