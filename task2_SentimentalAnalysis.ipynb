{
  "cells": [
    {
      "cell_type": "markdown",
      "metadata": {
        "id": "view-in-github",
        "colab_type": "text"
      },
      "source": [
        "<a href=\"https://colab.research.google.com/github/laibamushtaq0/data-science-internship-2025/blob/main/task2_SentimentalAnalysis.ipynb\" target=\"_parent\"><img src=\"https://colab.research.google.com/assets/colab-badge.svg\" alt=\"Open In Colab\"/></a>"
      ]
    },
    {
      "cell_type": "code",
      "execution_count": null,
      "id": "659d7a8f",
      "metadata": {
        "_cell_guid": "b1076dfc-b9ad-4769-8c92-a6c4dae69d19",
        "_uuid": "8f2839f25d086af736a60e9eeb907d3b93b6e0e5",
        "execution": {
          "iopub.execute_input": "2025-01-30T11:21:43.068688Z",
          "iopub.status.busy": "2025-01-30T11:21:43.068303Z",
          "iopub.status.idle": "2025-01-30T11:21:48.761108Z",
          "shell.execute_reply": "2025-01-30T11:21:48.759668Z"
        },
        "papermill": {
          "duration": 5.700142,
          "end_time": "2025-01-30T11:21:48.763144",
          "exception": false,
          "start_time": "2025-01-30T11:21:43.063002",
          "status": "completed"
        },
        "tags": [],
        "id": "659d7a8f",
        "outputId": "46f2d3c1-ff23-42fa-aed5-a1348282f667"
      },
      "outputs": [
        {
          "name": "stdout",
          "output_type": "stream",
          "text": [
            "Note: you may need to restart the kernel to use updated packages.\n"
          ]
        }
      ],
      "source": [
        "%pip install pandas numpy scikit-learn nltk datasets joblib --quiet"
      ]
    },
    {
      "cell_type": "markdown",
      "id": "bb5aaedd",
      "metadata": {
        "papermill": {
          "duration": 0.004011,
          "end_time": "2025-01-30T11:21:48.771495",
          "exception": false,
          "start_time": "2025-01-30T11:21:48.767484",
          "status": "completed"
        },
        "tags": [],
        "id": "bb5aaedd"
      },
      "source": [
        "# Data Preparation"
      ]
    },
    {
      "cell_type": "code",
      "execution_count": null,
      "id": "0ded3837",
      "metadata": {
        "execution": {
          "iopub.execute_input": "2025-01-30T11:21:48.780939Z",
          "iopub.status.busy": "2025-01-30T11:21:48.780524Z",
          "iopub.status.idle": "2025-01-30T11:21:56.518147Z",
          "shell.execute_reply": "2025-01-30T11:21:56.516881Z"
        },
        "papermill": {
          "duration": 7.744577,
          "end_time": "2025-01-30T11:21:56.520065",
          "exception": false,
          "start_time": "2025-01-30T11:21:48.775488",
          "status": "completed"
        },
        "tags": [],
        "colab": {
          "referenced_widgets": [
            "51f3265c35a54425a35ed5c3bbeb10b6",
            "7af6885a2bdc4e66966ea8c1ce9af075",
            "eeba4e833d0a4d2e8b209a0efc415f85",
            "1e57e4cb5e1f42d287dea69923a69431",
            "6eef5318d56e4765aea891b2262ecf7e",
            "054d199051544d46a3375e147f41d0e1",
            "dcaa51e75d71415b831bfcee57f7242a"
          ]
        },
        "id": "0ded3837",
        "outputId": "dc2df95e-e70a-4ab8-ba05-3cf6660d424e"
      },
      "outputs": [
        {
          "data": {
            "application/vnd.jupyter.widget-view+json": {
              "model_id": "51f3265c35a54425a35ed5c3bbeb10b6",
              "version_major": 2,
              "version_minor": 0
            },
            "text/plain": [
              "README.md:   0%|          | 0.00/7.81k [00:00<?, ?B/s]"
            ]
          },
          "metadata": {},
          "output_type": "display_data"
        },
        {
          "data": {
            "application/vnd.jupyter.widget-view+json": {
              "model_id": "7af6885a2bdc4e66966ea8c1ce9af075",
              "version_major": 2,
              "version_minor": 0
            },
            "text/plain": [
              "train-00000-of-00001.parquet:   0%|          | 0.00/21.0M [00:00<?, ?B/s]"
            ]
          },
          "metadata": {},
          "output_type": "display_data"
        },
        {
          "data": {
            "application/vnd.jupyter.widget-view+json": {
              "model_id": "eeba4e833d0a4d2e8b209a0efc415f85",
              "version_major": 2,
              "version_minor": 0
            },
            "text/plain": [
              "test-00000-of-00001.parquet:   0%|          | 0.00/20.5M [00:00<?, ?B/s]"
            ]
          },
          "metadata": {},
          "output_type": "display_data"
        },
        {
          "data": {
            "application/vnd.jupyter.widget-view+json": {
              "model_id": "1e57e4cb5e1f42d287dea69923a69431",
              "version_major": 2,
              "version_minor": 0
            },
            "text/plain": [
              "unsupervised-00000-of-00001.parquet:   0%|          | 0.00/42.0M [00:00<?, ?B/s]"
            ]
          },
          "metadata": {},
          "output_type": "display_data"
        },
        {
          "data": {
            "application/vnd.jupyter.widget-view+json": {
              "model_id": "6eef5318d56e4765aea891b2262ecf7e",
              "version_major": 2,
              "version_minor": 0
            },
            "text/plain": [
              "Generating train split:   0%|          | 0/25000 [00:00<?, ? examples/s]"
            ]
          },
          "metadata": {},
          "output_type": "display_data"
        },
        {
          "data": {
            "application/vnd.jupyter.widget-view+json": {
              "model_id": "054d199051544d46a3375e147f41d0e1",
              "version_major": 2,
              "version_minor": 0
            },
            "text/plain": [
              "Generating test split:   0%|          | 0/25000 [00:00<?, ? examples/s]"
            ]
          },
          "metadata": {},
          "output_type": "display_data"
        },
        {
          "data": {
            "application/vnd.jupyter.widget-view+json": {
              "model_id": "dcaa51e75d71415b831bfcee57f7242a",
              "version_major": 2,
              "version_minor": 0
            },
            "text/plain": [
              "Generating unsupervised split:   0%|          | 0/50000 [00:00<?, ? examples/s]"
            ]
          },
          "metadata": {},
          "output_type": "display_data"
        },
        {
          "name": "stdout",
          "output_type": "stream",
          "text": [
            "                                              review  sentiment\n",
            "0  I rented I AM CURIOUS-YELLOW from my video sto...          0\n",
            "1  \"I Am Curious: Yellow\" is a risible and preten...          0\n",
            "2  If only to avoid making this type of film in t...          0\n",
            "3  This film was probably inspired by Godard's Ma...          0\n",
            "4  Oh, brother...after hearing about this ridicul...          0\n"
          ]
        }
      ],
      "source": [
        "from datasets import load_dataset\n",
        "\n",
        "dataset = load_dataset(\"imdb\")\n",
        "\n",
        "df = dataset[\"train\"].to_pandas()\n",
        "\n",
        "df = df.rename(columns={\"text\": \"review\", \"label\": \"sentiment\"})\n",
        "\n",
        "print(df.head())"
      ]
    },
    {
      "cell_type": "markdown",
      "id": "25a4267a",
      "metadata": {
        "papermill": {
          "duration": 0.004743,
          "end_time": "2025-01-30T11:21:56.530083",
          "exception": false,
          "start_time": "2025-01-30T11:21:56.52534",
          "status": "completed"
        },
        "tags": [],
        "id": "25a4267a"
      },
      "source": [
        "## Split data"
      ]
    },
    {
      "cell_type": "code",
      "execution_count": null,
      "id": "5ac27286",
      "metadata": {
        "execution": {
          "iopub.execute_input": "2025-01-30T11:21:56.541495Z",
          "iopub.status.busy": "2025-01-30T11:21:56.540925Z",
          "iopub.status.idle": "2025-01-30T11:21:57.737275Z",
          "shell.execute_reply": "2025-01-30T11:21:57.736263Z"
        },
        "papermill": {
          "duration": 1.204245,
          "end_time": "2025-01-30T11:21:57.739212",
          "exception": false,
          "start_time": "2025-01-30T11:21:56.534967",
          "status": "completed"
        },
        "tags": [],
        "id": "5ac27286"
      },
      "outputs": [],
      "source": [
        "from sklearn.model_selection import train_test_split\n",
        "\n",
        "train_texts, test_texts, train_labels, test_labels = train_test_split(\n",
        "    df['review'], df['sentiment'], test_size=0.2, random_state=42\n",
        ")"
      ]
    },
    {
      "cell_type": "markdown",
      "id": "60f607d2",
      "metadata": {
        "papermill": {
          "duration": 0.004767,
          "end_time": "2025-01-30T11:21:57.749073",
          "exception": false,
          "start_time": "2025-01-30T11:21:57.744306",
          "status": "completed"
        },
        "tags": [],
        "id": "60f607d2"
      },
      "source": [
        "# Text Preprocessing"
      ]
    },
    {
      "cell_type": "code",
      "execution_count": null,
      "id": "ff5e79dd",
      "metadata": {
        "execution": {
          "iopub.execute_input": "2025-01-30T11:21:57.760683Z",
          "iopub.status.busy": "2025-01-30T11:21:57.760093Z",
          "iopub.status.idle": "2025-01-30T11:22:21.975206Z",
          "shell.execute_reply": "2025-01-30T11:22:21.973876Z"
        },
        "papermill": {
          "duration": 24.222873,
          "end_time": "2025-01-30T11:22:21.976999",
          "exception": false,
          "start_time": "2025-01-30T11:21:57.754126",
          "status": "completed"
        },
        "tags": [],
        "id": "ff5e79dd",
        "outputId": "72e94c68-694f-40b1-c879-6ecf77c0c53b"
      },
      "outputs": [
        {
          "name": "stdout",
          "output_type": "stream",
          "text": [
            "[nltk_data] Downloading package stopwords to /usr/share/nltk_data...\n",
            "[nltk_data]   Package stopwords is already up-to-date!\n",
            "[nltk_data] Downloading package punkt to /usr/share/nltk_data...\n",
            "[nltk_data]   Package punkt is already up-to-date!\n",
            "23311    borrowed movie despite extremely low rating wa...\n",
            "23623    unexpected accident killed inexperienced climb...\n",
            "1020     summer blockbuster hit baseketball one movies ...\n",
            "12645    scarcely imagine better movie thishey go chick...\n",
            "1533     still famous decadent actor morgan freeman fil...\n",
            "Name: review, dtype: object\n"
          ]
        }
      ],
      "source": [
        "import re\n",
        "import nltk\n",
        "from nltk.corpus import stopwords\n",
        "from nltk.tokenize import word_tokenize\n",
        "\n",
        "nltk.download('stopwords')\n",
        "nltk.download('punkt')\n",
        "\n",
        "stop_words = set(stopwords.words('english'))\n",
        "\n",
        "def preprocess_text(text):\n",
        "    text = text.lower()\n",
        "    text = re.sub(r'<[^>]+>', '', text)\n",
        "    text = re.sub(r'[^a-z\\s]', '', text)\n",
        "    words = word_tokenize(text)\n",
        "    words = [word for word in words if word not in stop_words]\n",
        "    return \" \".join(words)\n",
        "\n",
        "train_texts = train_texts.apply(preprocess_text)\n",
        "test_texts = test_texts.apply(preprocess_text)\n",
        "\n",
        "print(train_texts[:5])"
      ]
    },
    {
      "cell_type": "markdown",
      "id": "a54f7adc",
      "metadata": {
        "papermill": {
          "duration": 0.006088,
          "end_time": "2025-01-30T11:22:21.989106",
          "exception": false,
          "start_time": "2025-01-30T11:22:21.983018",
          "status": "completed"
        },
        "tags": [],
        "id": "a54f7adc"
      },
      "source": [
        "# Convert Text to Vectors"
      ]
    },
    {
      "cell_type": "code",
      "execution_count": null,
      "id": "0ea145b5",
      "metadata": {
        "execution": {
          "iopub.execute_input": "2025-01-30T11:22:22.000931Z",
          "iopub.status.busy": "2025-01-30T11:22:22.000472Z",
          "iopub.status.idle": "2025-01-30T11:22:25.330639Z",
          "shell.execute_reply": "2025-01-30T11:22:25.329459Z"
        },
        "papermill": {
          "duration": 3.338132,
          "end_time": "2025-01-30T11:22:25.33236",
          "exception": false,
          "start_time": "2025-01-30T11:22:21.994228",
          "status": "completed"
        },
        "tags": [],
        "id": "0ea145b5",
        "outputId": "871fdc83-e5b9-4880-ef2a-1608f419c3c1"
      },
      "outputs": [
        {
          "name": "stdout",
          "output_type": "stream",
          "text": [
            "(20000, 5000)\n"
          ]
        }
      ],
      "source": [
        "from sklearn.feature_extraction.text import TfidfVectorizer\n",
        "\n",
        "vectorizer = TfidfVectorizer(max_features=5000)\n",
        "X_train = vectorizer.fit_transform(train_texts)\n",
        "X_test = vectorizer.transform(test_texts)\n",
        "\n",
        "print(X_train.shape)"
      ]
    },
    {
      "cell_type": "markdown",
      "id": "44df8991",
      "metadata": {
        "papermill": {
          "duration": 0.004971,
          "end_time": "2025-01-30T11:22:25.34266",
          "exception": false,
          "start_time": "2025-01-30T11:22:25.337689",
          "status": "completed"
        },
        "tags": [],
        "id": "44df8991"
      },
      "source": [
        "# Training Model"
      ]
    },
    {
      "cell_type": "code",
      "execution_count": null,
      "id": "bfb289ac",
      "metadata": {
        "execution": {
          "iopub.execute_input": "2025-01-30T11:22:25.354198Z",
          "iopub.status.busy": "2025-01-30T11:22:25.353828Z",
          "iopub.status.idle": "2025-01-30T11:22:25.763593Z",
          "shell.execute_reply": "2025-01-30T11:22:25.762331Z"
        },
        "papermill": {
          "duration": 0.41752,
          "end_time": "2025-01-30T11:22:25.765375",
          "exception": false,
          "start_time": "2025-01-30T11:22:25.347855",
          "status": "completed"
        },
        "tags": [],
        "id": "bfb289ac",
        "outputId": "79b5dff4-9b09-4fbd-de02-eb835f8a6bc3"
      },
      "outputs": [
        {
          "name": "stdout",
          "output_type": "stream",
          "text": [
            "Accuracy: 0.88\n"
          ]
        }
      ],
      "source": [
        "from sklearn.linear_model import LogisticRegression\n",
        "from sklearn.metrics import accuracy_score\n",
        "\n",
        "model = LogisticRegression()\n",
        "model.fit(X_train, train_labels)\n",
        "\n",
        "y_pred = model.predict(X_test)\n",
        "\n",
        "accuracy = accuracy_score(test_labels, y_pred)\n",
        "print(f\"Accuracy: {accuracy:.2f}\")"
      ]
    },
    {
      "cell_type": "markdown",
      "id": "4f8b91e3",
      "metadata": {
        "papermill": {
          "duration": 0.005146,
          "end_time": "2025-01-30T11:22:25.776432",
          "exception": false,
          "start_time": "2025-01-30T11:22:25.771286",
          "status": "completed"
        },
        "tags": [],
        "id": "4f8b91e3"
      },
      "source": [
        "# Testing"
      ]
    },
    {
      "cell_type": "code",
      "execution_count": null,
      "id": "a996f4fa",
      "metadata": {
        "execution": {
          "iopub.execute_input": "2025-01-30T11:22:25.788265Z",
          "iopub.status.busy": "2025-01-30T11:22:25.787882Z",
          "iopub.status.idle": "2025-01-30T11:22:25.79297Z",
          "shell.execute_reply": "2025-01-30T11:22:25.791878Z"
        },
        "papermill": {
          "duration": 0.013179,
          "end_time": "2025-01-30T11:22:25.794848",
          "exception": false,
          "start_time": "2025-01-30T11:22:25.781669",
          "status": "completed"
        },
        "tags": [],
        "id": "a996f4fa"
      },
      "outputs": [],
      "source": [
        "def predict_sentiment(text):\n",
        "    processed_text = preprocess_text(text)\n",
        "    vectorized_text = vectorizer.transform([processed_text])\n",
        "    prediction = model.predict(vectorized_text)[0]\n",
        "    return \"Positive\" if prediction == 1 else \"Negative\""
      ]
    },
    {
      "cell_type": "code",
      "execution_count": null,
      "id": "71c0a513",
      "metadata": {
        "execution": {
          "iopub.execute_input": "2025-01-30T11:22:25.806995Z",
          "iopub.status.busy": "2025-01-30T11:22:25.80659Z",
          "iopub.status.idle": "2025-01-30T11:22:25.824082Z",
          "shell.execute_reply": "2025-01-30T11:22:25.822876Z"
        },
        "papermill": {
          "duration": 0.02545,
          "end_time": "2025-01-30T11:22:25.825725",
          "exception": false,
          "start_time": "2025-01-30T11:22:25.800275",
          "status": "completed"
        },
        "tags": [],
        "colab": {
          "referenced_widgets": [
            "2caeef7ff3ed490a9bca61af9999b79f"
          ]
        },
        "id": "71c0a513",
        "outputId": "944fb6ab-d2d6-44da-8678-b37b1d217ac0"
      },
      "outputs": [
        {
          "data": {
            "application/vnd.jupyter.widget-view+json": {
              "model_id": "2caeef7ff3ed490a9bca61af9999b79f",
              "version_major": 2,
              "version_minor": 0
            },
            "text/plain": [
              "VBox(children=(Text(value='', description='Input Text:', placeholder='Type something here'), Button(button_sty…"
            ]
          },
          "execution_count": 8,
          "metadata": {},
          "output_type": "execute_result"
        }
      ],
      "source": [
        "import ipywidgets as widgets\n",
        "\n",
        "output = widgets.Output()\n",
        "\n",
        "text_input = widgets.Text(\n",
        "    description='Input Text:',\n",
        "    placeholder='Type something here'\n",
        ")\n",
        "\n",
        "submit_btn = widgets.Button(\n",
        "    description='Submit',\n",
        "    button_style='info'\n",
        ")\n",
        "\n",
        "def process_input(_):\n",
        "    text = text_input.value\n",
        "\n",
        "    with output:\n",
        "        output.clear_output()\n",
        "        print(predict_sentiment(text))\n",
        "\n",
        "submit_btn.on_click(process_input)\n",
        "\n",
        "layout = widgets.VBox([\n",
        "    text_input,\n",
        "    submit_btn,\n",
        "    output\n",
        "])\n",
        "\n",
        "layout"
      ]
    },
    {
      "cell_type": "markdown",
      "id": "18deea80",
      "metadata": {
        "papermill": {
          "duration": 0.005211,
          "end_time": "2025-01-30T11:22:25.836515",
          "exception": false,
          "start_time": "2025-01-30T11:22:25.831304",
          "status": "completed"
        },
        "tags": [],
        "id": "18deea80"
      },
      "source": [
        "# Deployment"
      ]
    },
    {
      "cell_type": "code",
      "execution_count": null,
      "id": "3fa12075",
      "metadata": {
        "execution": {
          "iopub.execute_input": "2025-01-30T11:22:25.848643Z",
          "iopub.status.busy": "2025-01-30T11:22:25.848292Z",
          "iopub.status.idle": "2025-01-30T11:22:25.856447Z",
          "shell.execute_reply": "2025-01-30T11:22:25.855377Z"
        },
        "papermill": {
          "duration": 0.016268,
          "end_time": "2025-01-30T11:22:25.858227",
          "exception": false,
          "start_time": "2025-01-30T11:22:25.841959",
          "status": "completed"
        },
        "tags": [],
        "id": "3fa12075",
        "outputId": "4c43584e-3df3-404e-bb7e-f2e86d6218eb"
      },
      "outputs": [
        {
          "data": {
            "text/plain": [
              "['sentiment_model.pkl']"
            ]
          },
          "execution_count": 9,
          "metadata": {},
          "output_type": "execute_result"
        }
      ],
      "source": [
        "import joblib\n",
        "\n",
        "joblib.dump(model, 'sentiment_model.pkl')"
      ]
    },
    {
      "cell_type": "markdown",
      "id": "3ce2884a",
      "metadata": {
        "papermill": {
          "duration": 0.005128,
          "end_time": "2025-01-30T11:22:25.869194",
          "exception": false,
          "start_time": "2025-01-30T11:22:25.864066",
          "status": "completed"
        },
        "tags": [],
        "id": "3ce2884a"
      },
      "source": [
        "## Create pipeline to bundle together model and vectorizer"
      ]
    },
    {
      "cell_type": "code",
      "execution_count": null,
      "id": "1b8583f4",
      "metadata": {
        "execution": {
          "iopub.execute_input": "2025-01-30T11:22:25.88155Z",
          "iopub.status.busy": "2025-01-30T11:22:25.881189Z",
          "iopub.status.idle": "2025-01-30T11:22:26.424397Z",
          "shell.execute_reply": "2025-01-30T11:22:26.423182Z"
        },
        "papermill": {
          "duration": 0.551567,
          "end_time": "2025-01-30T11:22:26.426282",
          "exception": false,
          "start_time": "2025-01-30T11:22:25.874715",
          "status": "completed"
        },
        "tags": [],
        "id": "1b8583f4",
        "outputId": "e954172b-eefa-4c75-a228-f6aa2059db90"
      },
      "outputs": [
        {
          "data": {
            "text/plain": [
              "['sentiment_analysis_pipeline.pkl']"
            ]
          },
          "execution_count": 10,
          "metadata": {},
          "output_type": "execute_result"
        }
      ],
      "source": [
        "from sklearn.pipeline import Pipeline\n",
        "import joblib\n",
        "\n",
        "pipeline = Pipeline([\n",
        "    ('vectorizer', vectorizer),\n",
        "    ('model', model)\n",
        "])\n",
        "\n",
        "\n",
        "joblib.dump(pipeline, 'sentiment_analysis_pipeline.pkl')"
      ]
    }
  ],
  "metadata": {
    "kaggle": {
      "accelerator": "none",
      "dataSources": [],
      "dockerImageVersionId": 30839,
      "isGpuEnabled": false,
      "isInternetEnabled": true,
      "language": "python",
      "sourceType": "notebook"
    },
    "kernelspec": {
      "display_name": "Python 3",
      "language": "python",
      "name": "python3"
    },
    "language_info": {
      "codemirror_mode": {
        "name": "ipython",
        "version": 3
      },
      "file_extension": ".py",
      "mimetype": "text/x-python",
      "name": "python",
      "nbconvert_exporter": "python",
      "pygments_lexer": "ipython3",
      "version": "3.10.12"
    },
    "papermill": {
      "default_parameters": {},
      "duration": 47.239699,
      "end_time": "2025-01-30T11:22:27.45878",
      "environment_variables": {},
      "exception": null,
      "input_path": "__notebook__.ipynb",
      "output_path": "__notebook__.ipynb",
      "parameters": {},
      "start_time": "2025-01-30T11:21:40.219081",
      "version": "2.6.0"
    },
    "widgets": {
      "application/vnd.jupyter.widget-state+json": {}
    },
    "colab": {
      "provenance": [],
      "include_colab_link": true
    }
  },
  "nbformat": 4,
  "nbformat_minor": 5
}